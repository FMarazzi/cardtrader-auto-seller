{
 "cells": [
  {
   "cell_type": "code",
   "execution_count": 2,
   "id": "101ce781-0560-4a90-b951-d93b78843de4",
   "metadata": {},
   "outputs": [],
   "source": [
    "import pandas as pd"
   ]
  },
  {
   "cell_type": "code",
   "execution_count": 3,
   "id": "147384ab-0701-4d2c-8860-e76bbae48051",
   "metadata": {},
   "outputs": [
    {
     "name": "stdout",
     "output_type": "stream",
     "text": [
      "854\n"
     ]
    },
    {
     "data": {
      "text/html": [
       "<div>\n",
       "<style scoped>\n",
       "    .dataframe tbody tr th:only-of-type {\n",
       "        vertical-align: middle;\n",
       "    }\n",
       "\n",
       "    .dataframe tbody tr th {\n",
       "        vertical-align: top;\n",
       "    }\n",
       "\n",
       "    .dataframe thead th {\n",
       "        text-align: right;\n",
       "    }\n",
       "</style>\n",
       "<table border=\"1\" class=\"dataframe\">\n",
       "  <thead>\n",
       "    <tr style=\"text-align: right;\">\n",
       "      <th></th>\n",
       "      <th>Binder Name</th>\n",
       "      <th>Binder Type</th>\n",
       "      <th>Name</th>\n",
       "      <th>Set code</th>\n",
       "      <th>Set name</th>\n",
       "      <th>Collector number</th>\n",
       "      <th>Foil</th>\n",
       "      <th>Rarity</th>\n",
       "      <th>Quantity</th>\n",
       "      <th>ManaBox ID</th>\n",
       "      <th>Scryfall ID</th>\n",
       "      <th>Purchase price</th>\n",
       "      <th>Misprint</th>\n",
       "      <th>Altered</th>\n",
       "      <th>Condition</th>\n",
       "      <th>Language</th>\n",
       "      <th>Purchase price currency</th>\n",
       "    </tr>\n",
       "  </thead>\n",
       "  <tbody>\n",
       "    <tr>\n",
       "      <th>0</th>\n",
       "      <td>Luposcar</td>\n",
       "      <td>binder</td>\n",
       "      <td>Wind Dancer</td>\n",
       "      <td>7ED</td>\n",
       "      <td>Seventh Edition</td>\n",
       "      <td>113</td>\n",
       "      <td>normal</td>\n",
       "      <td>uncommon</td>\n",
       "      <td>1</td>\n",
       "      <td>32693</td>\n",
       "      <td>314b5efa-c16f-4bcf-beed-bd0d77511a25</td>\n",
       "      <td>0.22</td>\n",
       "      <td>False</td>\n",
       "      <td>False</td>\n",
       "      <td>near_mint</td>\n",
       "      <td>it</td>\n",
       "      <td>EUR</td>\n",
       "    </tr>\n",
       "    <tr>\n",
       "      <th>1</th>\n",
       "      <td>Luposcar</td>\n",
       "      <td>binder</td>\n",
       "      <td>Shivan Dragon</td>\n",
       "      <td>7ED</td>\n",
       "      <td>Seventh Edition</td>\n",
       "      <td>218</td>\n",
       "      <td>normal</td>\n",
       "      <td>rare</td>\n",
       "      <td>1</td>\n",
       "      <td>32588</td>\n",
       "      <td>7fec2b71-8fa9-4818-9c4f-5d2dcd2af495</td>\n",
       "      <td>0.62</td>\n",
       "      <td>False</td>\n",
       "      <td>False</td>\n",
       "      <td>near_mint</td>\n",
       "      <td>it</td>\n",
       "      <td>EUR</td>\n",
       "    </tr>\n",
       "  </tbody>\n",
       "</table>\n",
       "</div>"
      ],
      "text/plain": [
       "  Binder Name Binder Type           Name Set code         Set name  \\\n",
       "0    Luposcar      binder    Wind Dancer      7ED  Seventh Edition   \n",
       "1    Luposcar      binder  Shivan Dragon      7ED  Seventh Edition   \n",
       "\n",
       "  Collector number    Foil    Rarity  Quantity  ManaBox ID  \\\n",
       "0              113  normal  uncommon         1       32693   \n",
       "1              218  normal      rare         1       32588   \n",
       "\n",
       "                            Scryfall ID  Purchase price  Misprint  Altered  \\\n",
       "0  314b5efa-c16f-4bcf-beed-bd0d77511a25            0.22     False    False   \n",
       "1  7fec2b71-8fa9-4818-9c4f-5d2dcd2af495            0.62     False    False   \n",
       "\n",
       "   Condition Language Purchase price currency  \n",
       "0  near_mint       it                     EUR  \n",
       "1  near_mint       it                     EUR  "
      ]
     },
     "execution_count": 3,
     "metadata": {},
     "output_type": "execute_result"
    }
   ],
   "source": [
    "df = pd.read_csv(\"../data/ManaBox_Collection.csv\")\n",
    "print(len(df))\n",
    "df.head(2)"
   ]
  },
  {
   "cell_type": "code",
   "execution_count": 6,
   "id": "01c757f3-aa20-4c56-bf48-4d62a7ef6c98",
   "metadata": {},
   "outputs": [
    {
     "data": {
      "text/plain": [
       "Binder Name\n",
       "Luposcar      477\n",
       "All black     337\n",
       "Urza Combo     22\n",
       "Elfo           18\n",
       "Name: count, dtype: int64"
      ]
     },
     "execution_count": 6,
     "metadata": {},
     "output_type": "execute_result"
    }
   ],
   "source": [
    "df[\"Binder Name\"].value_counts()"
   ]
  },
  {
   "cell_type": "code",
   "execution_count": 19,
   "id": "aa4c0aec-0971-4762-ba37-0cc010254124",
   "metadata": {},
   "outputs": [
    {
     "name": "stdout",
     "output_type": "stream",
     "text": [
      "337\n"
     ]
    },
    {
     "data": {
      "text/html": [
       "<div>\n",
       "<style scoped>\n",
       "    .dataframe tbody tr th:only-of-type {\n",
       "        vertical-align: middle;\n",
       "    }\n",
       "\n",
       "    .dataframe tbody tr th {\n",
       "        vertical-align: top;\n",
       "    }\n",
       "\n",
       "    .dataframe thead th {\n",
       "        text-align: right;\n",
       "    }\n",
       "</style>\n",
       "<table border=\"1\" class=\"dataframe\">\n",
       "  <thead>\n",
       "    <tr style=\"text-align: right;\">\n",
       "      <th></th>\n",
       "      <th>name</th>\n",
       "      <th>expansion_code</th>\n",
       "      <th>expansion_name</th>\n",
       "      <th>collector_number</th>\n",
       "      <th>foil</th>\n",
       "      <th>price</th>\n",
       "      <th>rarity</th>\n",
       "      <th>quantity</th>\n",
       "      <th>condition</th>\n",
       "      <th>language</th>\n",
       "    </tr>\n",
       "  </thead>\n",
       "  <tbody>\n",
       "    <tr>\n",
       "      <th>482</th>\n",
       "      <td>Hidetsugu, Devouring Chaos</td>\n",
       "      <td>NEO</td>\n",
       "      <td>Kamigawa: Neon Dynasty</td>\n",
       "      <td>378</td>\n",
       "      <td>foil</td>\n",
       "      <td>0.75</td>\n",
       "      <td>rare</td>\n",
       "      <td>1</td>\n",
       "      <td>near_mint</td>\n",
       "      <td>en</td>\n",
       "    </tr>\n",
       "    <tr>\n",
       "      <th>483</th>\n",
       "      <td>Territory Forge</td>\n",
       "      <td>BIG</td>\n",
       "      <td>The Big Score</td>\n",
       "      <td>15</td>\n",
       "      <td>normal</td>\n",
       "      <td>0.31</td>\n",
       "      <td>mythic</td>\n",
       "      <td>1</td>\n",
       "      <td>near_mint</td>\n",
       "      <td>en</td>\n",
       "    </tr>\n",
       "    <tr>\n",
       "      <th>484</th>\n",
       "      <td>Springjack Pasture</td>\n",
       "      <td>EVE</td>\n",
       "      <td>Eventide</td>\n",
       "      <td>179</td>\n",
       "      <td>normal</td>\n",
       "      <td>0.81</td>\n",
       "      <td>rare</td>\n",
       "      <td>1</td>\n",
       "      <td>near_mint</td>\n",
       "      <td>it</td>\n",
       "    </tr>\n",
       "    <tr>\n",
       "      <th>485</th>\n",
       "      <td>Steamflogger of the Month</td>\n",
       "      <td>UST</td>\n",
       "      <td>Unstable</td>\n",
       "      <td>94</td>\n",
       "      <td>foil</td>\n",
       "      <td>0.48</td>\n",
       "      <td>rare</td>\n",
       "      <td>1</td>\n",
       "      <td>near_mint</td>\n",
       "      <td>it</td>\n",
       "    </tr>\n",
       "    <tr>\n",
       "      <th>486</th>\n",
       "      <td>Burning Sun's Avatar</td>\n",
       "      <td>PXLN</td>\n",
       "      <td>Ixalan Promos</td>\n",
       "      <td>135</td>\n",
       "      <td>foil</td>\n",
       "      <td>0.17</td>\n",
       "      <td>rare</td>\n",
       "      <td>1</td>\n",
       "      <td>near_mint</td>\n",
       "      <td>it</td>\n",
       "    </tr>\n",
       "  </tbody>\n",
       "</table>\n",
       "</div>"
      ],
      "text/plain": [
       "                           name expansion_code          expansion_name  \\\n",
       "482  Hidetsugu, Devouring Chaos            NEO  Kamigawa: Neon Dynasty   \n",
       "483             Territory Forge            BIG           The Big Score   \n",
       "484          Springjack Pasture            EVE                Eventide   \n",
       "485   Steamflogger of the Month            UST                Unstable   \n",
       "486        Burning Sun's Avatar           PXLN           Ixalan Promos   \n",
       "\n",
       "    collector_number    foil  price  rarity  quantity  condition language  \n",
       "482              378    foil   0.75    rare         1  near_mint       en  \n",
       "483               15  normal   0.31  mythic         1  near_mint       en  \n",
       "484              179  normal   0.81    rare         1  near_mint       it  \n",
       "485               94    foil   0.48    rare         1  near_mint       it  \n",
       "486              135    foil   0.17    rare         1  near_mint       it  "
      ]
     },
     "execution_count": 19,
     "metadata": {},
     "output_type": "execute_result"
    }
   ],
   "source": [
    "filtered_df = df[df[\"Binder Name\"] == \"All black\"][[\"Name\", \"Set code\", \"Set name\", \"Collector number\", \"Foil\", \"Purchase price\", \"Rarity\", \"Quantity\", \"Condition\", \"Language\"]]\n",
    "filtered_df.columns = [\"name\", \"expansion_code\", \"expansion_name\", \"collector_number\", \"foil\", \"price\", \"rarity\", \"quantity\", \"condition\", \"language\"]\n",
    "print(len(filtered_df))\n",
    "filtered_df.head()"
   ]
  },
  {
   "cell_type": "code",
   "execution_count": 22,
   "id": "9b52dc79-9359-4b1d-a3f1-c5d85339a9d1",
   "metadata": {},
   "outputs": [],
   "source": [
    "filtered_df.sort_values(by=\"price\", ascending=False).to_csv(\"cards_filtered.csv\", index=False)"
   ]
  },
  {
   "cell_type": "code",
   "execution_count": null,
   "id": "8f92fae5-406c-44a8-8a93-b74e82672540",
   "metadata": {},
   "outputs": [],
   "source": []
  }
 ],
 "metadata": {
  "kernelspec": {
   "display_name": "Python 3 (ipykernel)",
   "language": "python",
   "name": "python3"
  },
  "language_info": {
   "codemirror_mode": {
    "name": "ipython",
    "version": 3
   },
   "file_extension": ".py",
   "mimetype": "text/x-python",
   "name": "python",
   "nbconvert_exporter": "python",
   "pygments_lexer": "ipython3",
   "version": "3.9.13"
  }
 },
 "nbformat": 4,
 "nbformat_minor": 5
}
